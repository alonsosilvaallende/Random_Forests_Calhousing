{
  "nbformat": 4,
  "nbformat_minor": 0,
  "metadata": {
    "kernelspec": {
      "name": "python3",
      "language": "python",
      "display_name": "Python 3"
    },
    "language_info": {
      "name": "python",
      "version": "3.6.5",
      "mimetype": "text/x-python",
      "codemirror_mode": {
        "name": "ipython",
        "version": 3
      },
      "pygments_lexer": "ipython3",
      "nbconvert_exporter": "python",
      "file_extension": ".py"
    },
    "kernel_info": {
      "name": "python3"
    },
    "nteract": {
      "version": "0.14.5"
    },
    "colab": {
      "name": "Random_Forests_Limitations_v0.1.ipynb",
      "provenance": [],
      "include_colab_link": true
    }
  },
  "cells": [
    {
      "cell_type": "markdown",
      "metadata": {
        "id": "view-in-github",
        "colab_type": "text"
      },
      "source": [
        "<a href=\"https://colab.research.google.com/github/alonsosilvaallende/Random_Forests_Calhousing/blob/master/Random_Forests_Limitations-colab.ipynb\" target=\"_parent\"><img src=\"https://colab.research.google.com/assets/colab-badge.svg\" alt=\"Open In Colab\"/></a>"
      ]
    },
    {
      "cell_type": "code",
      "metadata": {
        "ExecuteTime": {
          "end_time": "2019-08-29T10:55:25.760406Z",
          "start_time": "2019-08-29T10:55:19.582404Z"
        },
        "id": "HuWovt4qFDHK",
        "colab_type": "code",
        "colab": {}
      },
      "source": [
        "%matplotlib inline\n",
        "import numpy as np\n",
        "import matplotlib.pyplot as plt\n",
        "from sklearn.ensemble import RandomForestRegressor"
      ],
      "execution_count": 0,
      "outputs": []
    },
    {
      "cell_type": "markdown",
      "metadata": {
        "id": "1gCrtgTXFDHN",
        "colab_type": "text"
      },
      "source": [
        "## Random forests: Limitations"
      ]
    },
    {
      "cell_type": "markdown",
      "metadata": {
        "id": "qGM1C0BgFDHN",
        "colab_type": "text"
      },
      "source": [
        "[Alonso Silva](http://www.dim.uchile.cl/~alsilva/) [(@alonsosilva)](https://twitter.com/alonsosilva) | 2019/09/05"
      ]
    },
    {
      "cell_type": "markdown",
      "metadata": {
        "id": "yiTo01zlFDHO",
        "colab_type": "text"
      },
      "source": [
        "The purpose of this notebook is to show that random forests cannot extrapolate.\n",
        "\n",
        "First, consider a dependent variable $y$ that depends linearly on $x$ plus some random noise, that is:\n",
        "$$\n",
        "y = x +\\varepsilon\\quad\\textrm{where}\\quad\\varepsilon\\sim\\mathcal{N}(0,1).\n",
        "$$"
      ]
    },
    {
      "cell_type": "code",
      "metadata": {
        "ExecuteTime": {
          "end_time": "2019-08-29T10:55:25.809445Z",
          "start_time": "2019-08-29T10:55:25.764949Z"
        },
        "id": "iIVhXyTDFDHP",
        "colab_type": "code",
        "colab": {
          "base_uri": "https://localhost:8080/",
          "height": 392
        },
        "outputId": "d214b3e6-45ba-4ba3-8546-a25cfcd5bc3f"
      },
      "source": [
        "np.random.seed(42)\n",
        "x = np.linspace(0,10)\n",
        "y = x + np.random.normal(0, 1, x.shape)\n",
        "\n",
        "plt.figure(figsize=(6, 6))\n",
        "plt.scatter(x,y)\n",
        "plt.xlabel('x')\n",
        "plt.ylabel('y')\n",
        "plt.show()"
      ],
      "execution_count": 2,
      "outputs": [
        {
          "output_type": "display_data",
          "data": {
            "image/png": "[encoded data removed]",
            "text/plain": [
              "<Figure size 432x432 with 1 Axes>"
            ]
          },
          "metadata": {
            "tags": []
          }
        }
      ]
    },
    {
      "cell_type": "markdown",
      "metadata": {
        "id": "MJoPSCegFDHS",
        "colab_type": "text"
      },
      "source": [
        "There are $50$ observations (the default value in [numpy.linspace](https://docs.scipy.org/doc/numpy/reference/generated/numpy.linspace.html))\n",
        "\n",
        "Split the train/valid datasets: for train the first 40 points, and for valid the last 10 points"
      ]
    },
    {
      "cell_type": "code",
      "metadata": {
        "ExecuteTime": {
          "end_time": "2019-08-29T10:55:26.296236Z",
          "start_time": "2019-08-29T10:55:26.281066Z"
        },
        "id": "rWaP0UabFDHT",
        "colab_type": "code",
        "colab": {}
      },
      "source": [
        "x1 = x[...,None] # we add a dimension so that RandomForestRegressor doesn't complain"
      ],
      "execution_count": 0,
      "outputs": []
    },
    {
      "cell_type": "code",
      "metadata": {
        "ExecuteTime": {
          "end_time": "2019-08-29T10:55:26.312861Z",
          "start_time": "2019-08-29T10:55:26.297625Z"
        },
        "id": "rSadsy62FDHV",
        "colab_type": "code",
        "colab": {}
      },
      "source": [
        "x_trn, x_val = x1[:40], x1[40:]\n",
        "y_trn, y_val = y[:40], y[40:]"
      ],
      "execution_count": 0,
      "outputs": []
    },
    {
      "cell_type": "code",
      "metadata": {
        "ExecuteTime": {
          "end_time": "2019-08-29T10:55:26.352878Z",
          "start_time": "2019-08-29T10:55:26.314300Z"
        },
        "scrolled": true,
        "id": "92DVR_V4FDHa",
        "colab_type": "code",
        "colab": {}
      },
      "source": [
        "m = RandomForestRegressor(n_estimators=100).fit(x_trn, y_trn)"
      ],
      "execution_count": 0,
      "outputs": []
    },
    {
      "cell_type": "markdown",
      "metadata": {
        "id": "aguUUl8CFDHc",
        "colab_type": "text"
      },
      "source": [
        "Function to plot predictions vs actuals"
      ]
    },
    {
      "cell_type": "code",
      "metadata": {
        "ExecuteTime": {
          "end_time": "2019-08-29T10:55:26.494639Z",
          "start_time": "2019-08-29T10:55:26.354566Z"
        },
        "scrolled": true,
        "id": "7w5DC201FDHd",
        "colab_type": "code",
        "colab": {
          "base_uri": "https://localhost:8080/",
          "height": 392
        },
        "outputId": "755c253f-1d55-40de-cbf0-d9370210a26d"
      },
      "source": [
        "plt.figure(figsize=(6, 6))\n",
        "plt.xlabel('prediction')\n",
        "plt.ylabel('true target')\n",
        "plt.xlim(-1, 9)\n",
        "plt.ylim(-1, 9)\n",
        "plt.plot(np.linspace(-1,9), np.linspace(-1,9))\n",
        "plt.scatter(y_trn, m.predict(x_trn))\n",
        "plt.show()"
      ],
      "execution_count": 6,
      "outputs": [
        {
          "output_type": "display_data",
          "data": {
            "image/png": "[encoded data removed]",
            "text/plain": [
              "<Figure size 432x432 with 1 Axes>"
            ]
          },
          "metadata": {
            "tags": []
          }
        }
      ]
    },
    {
      "cell_type": "markdown",
      "metadata": {
        "id": "OuUhNOV6FDHf",
        "colab_type": "text"
      },
      "source": [
        "In the training set, the predictions work well (as expected)"
      ]
    },
    {
      "cell_type": "code",
      "metadata": {
        "ExecuteTime": {
          "end_time": "2019-08-29T10:55:26.661377Z",
          "start_time": "2019-08-29T10:55:26.496083Z"
        },
        "id": "2OmmTz9SFDHf",
        "colab_type": "code",
        "colab": {
          "base_uri": "https://localhost:8080/",
          "height": 392
        },
        "outputId": "de6017d2-1ee0-425f-997c-2c1a7619bea8"
      },
      "source": [
        "plt.figure(figsize=(6, 6))\n",
        "plt.xlabel('prediction')\n",
        "plt.ylabel('true target')\n",
        "plt.xlim(7, 10)\n",
        "plt.ylim(7, 10)\n",
        "plt.plot(np.linspace(7,10), np.linspace(7,10))\n",
        "plt.scatter(y_val, m.predict(x_val))\n",
        "plt.show()"
      ],
      "execution_count": 7,
      "outputs": [
        {
          "output_type": "display_data",
          "data": {
            "image/png": "[encoded data removed]",
            "text/plain": [
              "<Figure size 432x432 with 1 Axes>"
            ]
          },
          "metadata": {
            "tags": []
          }
        }
      ]
    },
    {
      "cell_type": "markdown",
      "metadata": {
        "id": "NEsNLG14FDHh",
        "colab_type": "text"
      },
      "source": [
        "Holy cow! In the test set, the predictions are completely off!"
      ]
    },
    {
      "cell_type": "markdown",
      "metadata": {
        "id": "Sthg5LwoFDHi",
        "colab_type": "text"
      },
      "source": [
        "Sources:\n",
        "\n",
        "This example is taken from Lesson6 of [FastAI ML](http://course18.fast.ai/ml.html). To check it out, see this [direct link](https://youtu.be/BFIYUvBRTpE?t=5086)."
      ]
    }
  ]
}