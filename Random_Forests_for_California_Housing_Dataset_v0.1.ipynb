{
 "cells": [
  {
   "cell_type": "markdown",
   "metadata": {},
   "source": [
    "# Random Forests: a practical guide"
   ]
  },
  {
   "cell_type": "markdown",
   "metadata": {},
   "source": [
    "[Alonso Silva](http://www.dim.uchile.cl/~alsilva/) [(@alonsosilva)](https://twitter.com/alonsosilva) | 2019/08/29"
   ]
  },
  {
   "cell_type": "code",
   "execution_count": 1,
   "metadata": {
    "ExecuteTime": {
     "end_time": "2019-08-29T14:22:41.517258Z",
     "start_time": "2019-08-29T14:22:39.080966Z"
    }
   },
   "outputs": [],
   "source": [
    "%load_ext autoreload\n",
    "%autoreload 2\n",
    "%matplotlib inline"
   ]
  },
  {
   "cell_type": "code",
   "execution_count": 2,
   "metadata": {
    "ExecuteTime": {
     "end_time": "2019-08-29T14:22:43.795628Z",
     "start_time": "2019-08-29T14:22:41.519334Z"
    }
   },
   "outputs": [],
   "source": [
    "import numpy as np\n",
    "import pandas as pd\n",
    "import matplotlib.pyplot as plt"
   ]
  },
  {
   "cell_type": "code",
   "execution_count": 3,
   "metadata": {
    "ExecuteTime": {
     "end_time": "2019-08-29T14:22:43.886700Z",
     "start_time": "2019-08-29T14:22:43.799171Z"
    }
   },
   "outputs": [],
   "source": [
    "PATH = \"./data\""
   ]
  },
  {
   "cell_type": "markdown",
   "metadata": {},
   "source": [
    "## An example: the california housing dataset"
   ]
  },
  {
   "cell_type": "markdown",
   "metadata": {},
   "source": [
    "We are trying to predict the target variable: the median house value for California districts."
   ]
  },
  {
   "cell_type": "code",
   "execution_count": 4,
   "metadata": {
    "ExecuteTime": {
     "end_time": "2019-08-29T14:22:43.943058Z",
     "start_time": "2019-08-29T14:22:43.888502Z"
    },
    "scrolled": true
   },
   "outputs": [],
   "source": [
    "df_raw = pd.read_csv(f'{PATH}/Calhousing.csv')"
   ]
  },
  {
   "cell_type": "code",
   "execution_count": 5,
   "metadata": {
    "ExecuteTime": {
     "end_time": "2019-08-29T14:22:43.967951Z",
     "start_time": "2019-08-29T14:22:43.944568Z"
    },
    "scrolled": true
   },
   "outputs": [
    {
     "data": {
      "text/html": [
       "<div>\n",
       "<style scoped>\n",
       "    .dataframe tbody tr th:only-of-type {\n",
       "        vertical-align: middle;\n",
       "    }\n",
       "\n",
       "    .dataframe tbody tr th {\n",
       "        vertical-align: top;\n",
       "    }\n",
       "\n",
       "    .dataframe thead th {\n",
       "        text-align: right;\n",
       "    }\n",
       "</style>\n",
       "<table border=\"1\" class=\"dataframe\">\n",
       "  <thead>\n",
       "    <tr style=\"text-align: right;\">\n",
       "      <th></th>\n",
       "      <th>MedInc</th>\n",
       "      <th>HouseAge</th>\n",
       "      <th>AveRooms</th>\n",
       "      <th>AveBedrms</th>\n",
       "      <th>Population</th>\n",
       "      <th>AveOccup</th>\n",
       "      <th>Latitude</th>\n",
       "      <th>Longitude</th>\n",
       "      <th>Target</th>\n",
       "    </tr>\n",
       "  </thead>\n",
       "  <tbody>\n",
       "    <tr>\n",
       "      <td>0</td>\n",
       "      <td>8.3252</td>\n",
       "      <td>41.0</td>\n",
       "      <td>6.984127</td>\n",
       "      <td>1.023810</td>\n",
       "      <td>322.0</td>\n",
       "      <td>2.555556</td>\n",
       "      <td>37.88</td>\n",
       "      <td>-122.23</td>\n",
       "      <td>4.526</td>\n",
       "    </tr>\n",
       "    <tr>\n",
       "      <td>1</td>\n",
       "      <td>8.3014</td>\n",
       "      <td>21.0</td>\n",
       "      <td>6.238137</td>\n",
       "      <td>0.971880</td>\n",
       "      <td>2401.0</td>\n",
       "      <td>2.109842</td>\n",
       "      <td>37.86</td>\n",
       "      <td>-122.22</td>\n",
       "      <td>3.585</td>\n",
       "    </tr>\n",
       "    <tr>\n",
       "      <td>2</td>\n",
       "      <td>7.2574</td>\n",
       "      <td>52.0</td>\n",
       "      <td>8.288136</td>\n",
       "      <td>1.073446</td>\n",
       "      <td>496.0</td>\n",
       "      <td>2.802260</td>\n",
       "      <td>37.85</td>\n",
       "      <td>-122.24</td>\n",
       "      <td>3.521</td>\n",
       "    </tr>\n",
       "    <tr>\n",
       "      <td>3</td>\n",
       "      <td>5.6431</td>\n",
       "      <td>52.0</td>\n",
       "      <td>5.817352</td>\n",
       "      <td>1.073059</td>\n",
       "      <td>558.0</td>\n",
       "      <td>2.547945</td>\n",
       "      <td>37.85</td>\n",
       "      <td>-122.25</td>\n",
       "      <td>3.413</td>\n",
       "    </tr>\n",
       "    <tr>\n",
       "      <td>4</td>\n",
       "      <td>3.8462</td>\n",
       "      <td>52.0</td>\n",
       "      <td>6.281853</td>\n",
       "      <td>1.081081</td>\n",
       "      <td>565.0</td>\n",
       "      <td>2.181467</td>\n",
       "      <td>37.85</td>\n",
       "      <td>-122.25</td>\n",
       "      <td>3.422</td>\n",
       "    </tr>\n",
       "  </tbody>\n",
       "</table>\n",
       "</div>"
      ],
      "text/plain": [
       "   MedInc  HouseAge  AveRooms  AveBedrms  Population  AveOccup  Latitude  \\\n",
       "0  8.3252      41.0  6.984127   1.023810       322.0  2.555556     37.88   \n",
       "1  8.3014      21.0  6.238137   0.971880      2401.0  2.109842     37.86   \n",
       "2  7.2574      52.0  8.288136   1.073446       496.0  2.802260     37.85   \n",
       "3  5.6431      52.0  5.817352   1.073059       558.0  2.547945     37.85   \n",
       "4  3.8462      52.0  6.281853   1.081081       565.0  2.181467     37.85   \n",
       "\n",
       "   Longitude  Target  \n",
       "0    -122.23   4.526  \n",
       "1    -122.22   3.585  \n",
       "2    -122.24   3.521  \n",
       "3    -122.25   3.413  \n",
       "4    -122.25   3.422  "
      ]
     },
     "execution_count": 5,
     "metadata": {},
     "output_type": "execute_result"
    }
   ],
   "source": [
    "df_raw.head()"
   ]
  },
  {
   "cell_type": "markdown",
   "metadata": {},
   "source": [
    "## Data processing"
   ]
  },
  {
   "cell_type": "code",
   "execution_count": 6,
   "metadata": {
    "ExecuteTime": {
     "end_time": "2019-08-29T14:22:44.225854Z",
     "start_time": "2019-08-29T14:22:43.969319Z"
    },
    "scrolled": true
   },
   "outputs": [
    {
     "data": {
      "image/png": "[encoded data removed]",
      "text/plain": [
       "<Figure size 432x288 with 1 Axes>"
      ]
     },
     "metadata": {
      "needs_background": "light"
     },
     "output_type": "display_data"
    }
   ],
   "source": [
    "plt.hist(df_raw['Target'], bins=50);"
   ]
  },
  {
   "cell_type": "code",
   "execution_count": 7,
   "metadata": {
    "ExecuteTime": {
     "end_time": "2019-08-29T14:22:44.439937Z",
     "start_time": "2019-08-29T14:22:44.227024Z"
    },
    "scrolled": true
   },
   "outputs": [
    {
     "data": {
      "image/png": "[encoded data removed]",
      "text/plain": [
       "<Figure size 432x288 with 1 Axes>"
      ]
     },
     "metadata": {
      "needs_background": "light"
     },
     "output_type": "display_data"
    }
   ],
   "source": [
    "plt.hist(df_raw['Target'][df_raw['Target'] < 4.9], bins=50);"
   ]
  },
  {
   "cell_type": "code",
   "execution_count": 8,
   "metadata": {
    "ExecuteTime": {
     "end_time": "2019-08-29T14:22:44.455360Z",
     "start_time": "2019-08-29T14:22:44.441907Z"
    }
   },
   "outputs": [],
   "source": [
    "df_raw1 = df_raw[df_raw['Target'] < 4.9].copy()"
   ]
  },
  {
   "cell_type": "code",
   "execution_count": 9,
   "metadata": {
    "ExecuteTime": {
     "end_time": "2019-08-29T14:22:44.669585Z",
     "start_time": "2019-08-29T14:22:44.457229Z"
    }
   },
   "outputs": [
    {
     "data": {
      "image/png": "[encoded data removed]",
      "text/plain": [
       "<Figure size 432x288 with 1 Axes>"
      ]
     },
     "metadata": {
      "needs_background": "light"
     },
     "output_type": "display_data"
    }
   ],
   "source": [
    "plt.hist(df_raw1['Target'], bins=50);"
   ]
  },
  {
   "cell_type": "markdown",
   "metadata": {},
   "source": [
    "We are interested on the percentage difference between our predictions and the actuals, not the difference."
   ]
  },
  {
   "cell_type": "code",
   "execution_count": 10,
   "metadata": {
    "ExecuteTime": {
     "end_time": "2019-08-29T14:22:44.682396Z",
     "start_time": "2019-08-29T14:22:44.670789Z"
    }
   },
   "outputs": [],
   "source": [
    "df_raw1.Target = np.log(df_raw1.Target)"
   ]
  },
  {
   "cell_type": "code",
   "execution_count": 11,
   "metadata": {
    "ExecuteTime": {
     "end_time": "2019-08-29T14:22:44.905043Z",
     "start_time": "2019-08-29T14:22:44.683599Z"
    }
   },
   "outputs": [
    {
     "data": {
      "image/png": "[encoded data removed]",
      "text/plain": [
       "<Figure size 432x288 with 1 Axes>"
      ]
     },
     "metadata": {
      "needs_background": "light"
     },
     "output_type": "display_data"
    }
   ],
   "source": [
    "plt.hist(df_raw1['Target'], bins=50);"
   ]
  },
  {
   "cell_type": "code",
   "execution_count": 12,
   "metadata": {
    "ExecuteTime": {
     "end_time": "2019-08-29T14:22:44.917137Z",
     "start_time": "2019-08-29T14:22:44.906141Z"
    }
   },
   "outputs": [
    {
     "data": {
      "text/plain": [
       "19608"
      ]
     },
     "execution_count": 12,
     "metadata": {},
     "output_type": "execute_result"
    }
   ],
   "source": [
    "len(df_raw1)"
   ]
  },
  {
   "cell_type": "code",
   "execution_count": 13,
   "metadata": {
    "ExecuteTime": {
     "end_time": "2019-08-29T14:22:44.928962Z",
     "start_time": "2019-08-29T14:22:44.918471Z"
    }
   },
   "outputs": [],
   "source": [
    "n_train = 18608"
   ]
  },
  {
   "cell_type": "code",
   "execution_count": 14,
   "metadata": {
    "ExecuteTime": {
     "end_time": "2019-08-29T14:22:44.941173Z",
     "start_time": "2019-08-29T14:22:44.930183Z"
    }
   },
   "outputs": [],
   "source": [
    "def split_vals(a,n): return a[:n], a[n:]"
   ]
  },
  {
   "cell_type": "code",
   "execution_count": 15,
   "metadata": {
    "ExecuteTime": {
     "end_time": "2019-08-29T14:22:44.958876Z",
     "start_time": "2019-08-29T14:22:44.942564Z"
    }
   },
   "outputs": [],
   "source": [
    "df_raw1 = df_raw1.sample(frac=1).reset_index(drop=True) # Shuffle the rows\n",
    "X_trn, X_val = split_vals(df_raw1.drop(['Target'], axis=1), n_train)\n",
    "y_trn, y_val = split_vals(df_raw1['Target'], n_train)"
   ]
  },
  {
   "cell_type": "code",
   "execution_count": 16,
   "metadata": {
    "ExecuteTime": {
     "end_time": "2019-08-29T14:22:44.970850Z",
     "start_time": "2019-08-29T14:22:44.960158Z"
    }
   },
   "outputs": [],
   "source": [
    "y_val.reset_index(drop=True);"
   ]
  },
  {
   "cell_type": "code",
   "execution_count": 17,
   "metadata": {
    "ExecuteTime": {
     "end_time": "2019-08-29T14:22:44.983978Z",
     "start_time": "2019-08-29T14:22:44.972131Z"
    }
   },
   "outputs": [
    {
     "data": {
      "text/plain": [
       "(True, True)"
      ]
     },
     "execution_count": 17,
     "metadata": {},
     "output_type": "execute_result"
    }
   ],
   "source": [
    "len(X_trn)==len(y_trn), len(X_val)==len(y_val)"
   ]
  },
  {
   "cell_type": "code",
   "execution_count": 18,
   "metadata": {
    "ExecuteTime": {
     "end_time": "2019-08-29T14:22:44.996890Z",
     "start_time": "2019-08-29T14:22:44.985345Z"
    }
   },
   "outputs": [
    {
     "data": {
      "text/plain": [
       "(18608, 1000)"
      ]
     },
     "execution_count": 18,
     "metadata": {},
     "output_type": "execute_result"
    }
   ],
   "source": [
    "len(y_trn), len(y_val)"
   ]
  },
  {
   "cell_type": "code",
   "execution_count": 19,
   "metadata": {
    "ExecuteTime": {
     "end_time": "2019-08-29T14:22:45.063595Z",
     "start_time": "2019-08-29T14:22:44.998295Z"
    },
    "scrolled": false
   },
   "outputs": [
    {
     "data": {
      "text/plain": [
       "Index(['MedInc', 'HouseAge', 'AveRooms', 'AveBedrms', 'Population', 'AveOccup',\n",
       "       'Latitude', 'Longitude', 'Target'],\n",
       "      dtype='object')"
      ]
     },
     "execution_count": 19,
     "metadata": {},
     "output_type": "execute_result"
    }
   ],
   "source": [
    "cols = df_raw1.columns; cols"
   ]
  },
  {
   "cell_type": "markdown",
   "metadata": {},
   "source": [
    "Scaling the features."
   ]
  },
  {
   "cell_type": "code",
   "execution_count": 20,
   "metadata": {
    "ExecuteTime": {
     "end_time": "2019-08-29T14:22:45.192394Z",
     "start_time": "2019-08-29T14:22:45.065179Z"
    }
   },
   "outputs": [],
   "source": [
    "X_trn_s = (X_trn - X_trn.mean())/X_trn.std()\n",
    "X_val_s = (X_val - X_trn.mean())/X_trn.std()"
   ]
  },
  {
   "cell_type": "markdown",
   "metadata": {},
   "source": [
    "## Data analysis"
   ]
  },
  {
   "cell_type": "code",
   "execution_count": 21,
   "metadata": {
    "ExecuteTime": {
     "end_time": "2019-08-29T14:22:45.204506Z",
     "start_time": "2019-08-29T14:22:45.193626Z"
    }
   },
   "outputs": [],
   "source": [
    "import math\n",
    "\n",
    "def rmse(x,y): return math.sqrt(((x-y)**2).mean())"
   ]
  },
  {
   "cell_type": "markdown",
   "metadata": {},
   "source": [
    "To plot predictions vs actuals"
   ]
  },
  {
   "cell_type": "code",
   "execution_count": 22,
   "metadata": {
    "ExecuteTime": {
     "end_time": "2019-08-29T14:22:45.218276Z",
     "start_time": "2019-08-29T14:22:45.205839Z"
    }
   },
   "outputs": [],
   "source": [
    "def scatter_predictions(y_pred, y_true):\n",
    "    plt.figure(figsize=(6, 6))\n",
    "    plt.xlabel('prediction')\n",
    "    plt.ylabel('true target')\n",
    "    plt.xlim(-1, 6)\n",
    "    plt.ylim(-1, 6)\n",
    "    plt.scatter(np.exp(y_pred), np.exp(y_true))\n",
    "    plt.show()"
   ]
  },
  {
   "cell_type": "markdown",
   "metadata": {},
   "source": [
    "For linear regression, we need to use the scaled columns."
   ]
  },
  {
   "cell_type": "code",
   "execution_count": 23,
   "metadata": {
    "ExecuteTime": {
     "end_time": "2019-08-29T14:22:48.254679Z",
     "start_time": "2019-08-29T14:22:45.221150Z"
    }
   },
   "outputs": [
    {
     "name": "stdout",
     "output_type": "stream",
     "text": [
      "train error: 0.334, valid error: 0.337\n",
      "train score: 0.603, valid score: 0.614\n"
     ]
    }
   ],
   "source": [
    "from sklearn.linear_model import LinearRegression\n",
    "\n",
    "lm = LinearRegression()\n",
    "lm.fit(X_trn_s, y_trn)\n",
    "print('train error: %0.3f, valid error: %0.3f' % (rmse(lm.predict(X_trn_s), y_trn),rmse(lm.predict(X_val_s), y_val)))\n",
    "print('train score: %0.3f, valid score: %0.3f' % (lm.score(X_trn_s, y_trn),lm.score(X_val_s, y_val)))"
   ]
  },
  {
   "cell_type": "code",
   "execution_count": 24,
   "metadata": {
    "ExecuteTime": {
     "end_time": "2019-08-29T14:22:48.449325Z",
     "start_time": "2019-08-29T14:22:48.257073Z"
    },
    "scrolled": true
   },
   "outputs": [
    {
     "data": {
      "image/png": "[encoded data removed]",
      "text/plain": [
       "<Figure size 432x432 with 1 Axes>"
      ]
     },
     "metadata": {
      "needs_background": "light"
     },
     "output_type": "display_data"
    }
   ],
   "source": [
    "scatter_predictions(lm.predict(X_val_s), y_val)"
   ]
  },
  {
   "cell_type": "code",
   "execution_count": 25,
   "metadata": {
    "ExecuteTime": {
     "end_time": "2019-08-29T14:22:48.624804Z",
     "start_time": "2019-08-29T14:22:48.450731Z"
    },
    "scrolled": true
   },
   "outputs": [
    {
     "data": {
      "image/png": "[encoded data removed]",
      "text/plain": [
       "<Figure size 432x288 with 1 Axes>"
      ]
     },
     "metadata": {
      "needs_background": "light"
     },
     "output_type": "display_data"
    }
   ],
   "source": [
    "# Feature importance\n",
    "featcoef_lm = lm.coef_\n",
    "rel_featcoef_lm = 100*np.abs(featcoef_lm)/np.sum(np.abs(featcoef_lm))\n",
    "lab = df_raw.drop(['Target'], axis=1).columns\n",
    "df_featcoef_lm = pd.DataFrame({'lab_lm': lab, 'val_lm': rel_featcoef_lm})\n",
    "df_featcoef_lm.plot.barh(x='lab_lm', y='val_lm');"
   ]
  },
  {
   "cell_type": "markdown",
   "metadata": {},
   "source": [
    "## Random forests"
   ]
  },
  {
   "cell_type": "code",
   "execution_count": 26,
   "metadata": {
    "ExecuteTime": {
     "end_time": "2019-08-29T14:22:50.006386Z",
     "start_time": "2019-08-29T14:22:48.626092Z"
    }
   },
   "outputs": [
    {
     "name": "stdout",
     "output_type": "stream",
     "text": [
      "train error: 0.084, valid error: 0.234\n",
      "train score: 0.975, valid score: 0.814\n"
     ]
    }
   ],
   "source": [
    "from sklearn.ensemble import RandomForestRegressor, RandomForestClassifier\n",
    "\n",
    "rfm = RandomForestRegressor(n_estimators=50, min_samples_leaf=1, max_features=.5, n_jobs=-1, oob_score=True)\n",
    "rfm.fit(X_trn, y_trn)\n",
    "print('train error: %0.3f, valid error: %0.3f' % (rmse(rfm.predict(X_trn), y_trn),rmse(rfm.predict(X_val), y_val)))\n",
    "print('train score: %0.3f, valid score: %0.3f' % (rfm.score(X_trn, y_trn),rfm.score(X_val, y_val)))"
   ]
  },
  {
   "cell_type": "markdown",
   "metadata": {},
   "source": [
    "Holy cow! Our error diminished by $30\\%$ and our score improved by $33\\%$."
   ]
  },
  {
   "cell_type": "code",
   "execution_count": 27,
   "metadata": {
    "ExecuteTime": {
     "end_time": "2019-08-29T14:22:50.271278Z",
     "start_time": "2019-08-29T14:22:50.008143Z"
    },
    "scrolled": true
   },
   "outputs": [
    {
     "data": {
      "image/png": "[encoded data removed]",
      "text/plain": [
       "<Figure size 432x432 with 1 Axes>"
      ]
     },
     "metadata": {
      "needs_background": "light"
     },
     "output_type": "display_data"
    }
   ],
   "source": [
    "scatter_predictions(rfm.predict(X_val), y_val)"
   ]
  },
  {
   "cell_type": "markdown",
   "metadata": {},
   "source": [
    "Our predictions are much less disperse compared to the predictions of the linear model."
   ]
  },
  {
   "cell_type": "code",
   "execution_count": 28,
   "metadata": {
    "ExecuteTime": {
     "end_time": "2019-08-29T14:22:50.554109Z",
     "start_time": "2019-08-29T14:22:50.272610Z"
    },
    "scrolled": true
   },
   "outputs": [
    {
     "data": {
      "image/png": "[encoded data removed]",
      "text/plain": [
       "<Figure size 432x288 with 1 Axes>"
      ]
     },
     "metadata": {
      "needs_background": "light"
     },
     "output_type": "display_data"
    }
   ],
   "source": [
    "featcoef_rfm = rfm.feature_importances_\n",
    "rel_featcoef_rfm = 100*np.abs(featcoef_rfm)/np.sum(np.abs(featcoef_rfm))\n",
    "df_featcoef_rfm = pd.DataFrame({'lab_rf': lab, 'val_rf': rel_featcoef_rfm})\n",
    "df_featcoef_rfm.plot.barh(x='lab_rf', y='val_rf');"
   ]
  },
  {
   "cell_type": "markdown",
   "metadata": {},
   "source": [
    "The most important feature of the price of a house is the median income in the bloc. Location features (Longitude and Latitude) seem to be very important as well (but less important compared to the feature importance given by the linear model)."
   ]
  },
  {
   "cell_type": "markdown",
   "metadata": {
    "ExecuteTime": {
     "end_time": "2019-07-23T08:47:26.926408Z",
     "start_time": "2019-07-23T08:47:26.521332Z"
    }
   },
   "source": [
    "## Bonus track: Prediction intervals of random forests"
   ]
  },
  {
   "cell_type": "markdown",
   "metadata": {},
   "source": [
    "Random forests give us the estimation given by several decision trees, so we get for free the standard deviation of these predictions."
   ]
  },
  {
   "cell_type": "code",
   "execution_count": 29,
   "metadata": {
    "ExecuteTime": {
     "end_time": "2019-08-29T14:22:50.634221Z",
     "start_time": "2019-08-29T14:22:50.555566Z"
    },
    "scrolled": false
   },
   "outputs": [
    {
     "name": "stdout",
     "output_type": "stream",
     "text": [
      "Predicted value first house: 0.572, Standard deviation of the prediction: 0.131\n"
     ]
    }
   ],
   "source": [
    "preds = np.stack([t.predict(X_val) for t in rfm.estimators_])\n",
    "print('Predicted value first house: %0.3f, Standard deviation of the prediction: %0.3f' % \n",
    "      (np.mean(preds[:,0]), np.std(preds[:,0])))"
   ]
  },
  {
   "cell_type": "markdown",
   "metadata": {},
   "source": [
    "We compute the predictions and their standard deviations."
   ]
  },
  {
   "cell_type": "code",
   "execution_count": 30,
   "metadata": {
    "ExecuteTime": {
     "end_time": "2019-08-29T14:22:50.677713Z",
     "start_time": "2019-08-29T14:22:50.635642Z"
    }
   },
   "outputs": [],
   "source": [
    "pred = [np.mean(preds[:,i]) for i in range(len(X_val))]\n",
    "pred_std = [np.std(preds[:,i]) for i in range(len(X_val))]"
   ]
  },
  {
   "cell_type": "code",
   "execution_count": 31,
   "metadata": {
    "ExecuteTime": {
     "end_time": "2019-08-29T14:22:50.693649Z",
     "start_time": "2019-08-29T14:22:50.679114Z"
    }
   },
   "outputs": [],
   "source": [
    "y_val = y_val.reset_index(drop=True)"
   ]
  },
  {
   "cell_type": "markdown",
   "metadata": {},
   "source": [
    "How many predictions are within 1 standard deviation? 2 standard deviations? 3 standard deviations"
   ]
  },
  {
   "cell_type": "code",
   "execution_count": 32,
   "metadata": {
    "ExecuteTime": {
     "end_time": "2019-08-29T14:22:50.720510Z",
     "start_time": "2019-08-29T14:22:50.695127Z"
    }
   },
   "outputs": [
    {
     "name": "stdout",
     "output_type": "stream",
     "text": [
      "Within 1 standard deviation: 80.1%\n"
     ]
    }
   ],
   "source": [
    "lower1 = [pred[i]-1*pred_std[i] for i in range(len(pred))]\n",
    "upper1 = [pred[i]+1*pred_std[i] for i in range(len(pred))]\n",
    "print('Within 1 standard deviation: %0.1f%%' %\n",
    "(100*(sum([lower1[i] <= y_val.iloc[i] <= upper1[i] for i in range(len(y_val))])/len(y_val))))"
   ]
  },
  {
   "cell_type": "code",
   "execution_count": 33,
   "metadata": {
    "ExecuteTime": {
     "end_time": "2019-08-29T14:22:50.747455Z",
     "start_time": "2019-08-29T14:22:50.721970Z"
    }
   },
   "outputs": [
    {
     "name": "stdout",
     "output_type": "stream",
     "text": [
      "Within 2 standard deviations: 97.5%\n"
     ]
    }
   ],
   "source": [
    "lower2 = [pred[i]-2*pred_std[i] for i in range(len(pred))]\n",
    "upper2 = [pred[i]+2*pred_std[i] for i in range(len(pred))]\n",
    "print('Within 2 standard deviations: %0.1f%%' %\n",
    "(100*sum([lower2[i] <= y_val.iloc[i] <= upper2[i] for i in range(len(y_val))])/len(y_val)))"
   ]
  },
  {
   "cell_type": "code",
   "execution_count": 34,
   "metadata": {
    "ExecuteTime": {
     "end_time": "2019-08-29T14:22:50.774078Z",
     "start_time": "2019-08-29T14:22:50.748840Z"
    }
   },
   "outputs": [
    {
     "name": "stdout",
     "output_type": "stream",
     "text": [
      "Within 3 standard deviations: 99.6%\n"
     ]
    }
   ],
   "source": [
    "lower3 = [pred[i]-3*pred_std[i] for i in range(len(pred))]\n",
    "upper3 = [pred[i]+3*pred_std[i] for i in range(len(pred))]\n",
    "print('Within 3 standard deviations: %0.1f%%' %\n",
    "(100*sum([lower3[i] <= y_val.iloc[i] <= upper3[i] for i in range(len(y_val))])/len(y_val)))"
   ]
  },
  {
   "cell_type": "markdown",
   "metadata": {},
   "source": [
    "Compared to the [68-95-99.7 rule](https://en.wikipedia.org/wiki/68%E2%80%9395%E2%80%9399.7_rule) of the normal distribution, I think it's quite a remarkable empirical result. "
   ]
  },
  {
   "cell_type": "markdown",
   "metadata": {},
   "source": [
    "Sources:\n",
    "+ [Gradient Boosting: a practical guide](https://nbviewer.jupyter.org/github/ogrisel/notebooks/blob/master/sklearn_demos/Gradient%20Boosting.ipynb)\n",
    "+ [FastAI Machine Learning for Coders](https://course18.fast.ai/ml)"
   ]
  },
  {
   "cell_type": "code",
   "execution_count": null,
   "metadata": {},
   "outputs": [],
   "source": []
  }
 ],
 "metadata": {
  "kernelspec": {
   "display_name": "Python 3",
   "language": "python",
   "name": "python3"
  },
  "language_info": {
   "codemirror_mode": {
    "name": "ipython",
    "version": 3
   },
   "file_extension": ".py",
   "mimetype": "text/x-python",
   "name": "python",
   "nbconvert_exporter": "python",
   "pygments_lexer": "ipython3",
   "version": "3.7.4"
  }
 },
 "nbformat": 4,
 "nbformat_minor": 2
}
