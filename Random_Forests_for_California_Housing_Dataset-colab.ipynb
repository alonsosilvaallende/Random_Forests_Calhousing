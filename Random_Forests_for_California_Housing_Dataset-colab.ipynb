{
  "nbformat": 4,
  "nbformat_minor": 0,
  "metadata": {
    "kernelspec": {
      "name": "python3",
      "language": "python",
      "display_name": "Python 3"
    },
    "language_info": {
      "name": "python",
      "version": "3.6.5",
      "mimetype": "text/x-python",
      "codemirror_mode": {
        "name": "ipython",
        "version": 3
      },
      "pygments_lexer": "ipython3",
      "nbconvert_exporter": "python",
      "file_extension": ".py"
    },
    "kernel_info": {
      "name": "python3"
    },
    "nteract": {
      "version": "0.14.5"
    },
    "colab": {
      "name": "Random_Forests_for_California_Housing_Dataset_v0.1.ipynb",
      "provenance": [],
      "include_colab_link": true
    }
  },
  "cells": [
    {
      "cell_type": "markdown",
      "metadata": {
        "id": "view-in-github",
        "colab_type": "text"
      },
      "source": [
        "<a href=\"https://colab.research.google.com/github/alonsosilvaallende/Random_Forests_Calhousing/blob/master/Random_Forests_for_California_Housing_Dataset-colab.ipynb\" target=\"_parent\"><img src=\"https://colab.research.google.com/assets/colab-badge.svg\" alt=\"Open In Colab\"/></a>"
      ]
    },
    {
      "cell_type": "markdown",
      "metadata": {
        "id": "9aBbhUcIFWPY",
        "colab_type": "text"
      },
      "source": [
        "# Random Forests: a practical guide"
      ]
    },
    {
      "cell_type": "markdown",
      "metadata": {
        "id": "MJ0NFSVRFWPZ",
        "colab_type": "text"
      },
      "source": [
        "[Alonso Silva](http://www.dim.uchile.cl/~alsilva/) [(@alonsosilva)](https://twitter.com/alonsosilva) | 2019/09/04"
      ]
    },
    {
      "cell_type": "code",
      "metadata": {
        "ExecuteTime": {
          "end_time": "2019-08-29T14:22:43.795628Z",
          "start_time": "2019-08-29T14:22:41.519334Z"
        },
        "id": "R34W3QSeFWPa",
        "colab_type": "code",
        "colab": {}
      },
      "source": [
        "import numpy as np\n",
        "import pandas as pd\n",
        "import matplotlib.pyplot as plt\n",
        "%matplotlib inline"
      ],
      "execution_count": 0,
      "outputs": []
    },
    {
      "cell_type": "markdown",
      "metadata": {
        "id": "qb1GmkSBFWPd",
        "colab_type": "text"
      },
      "source": [
        "## An example: the california housing dataset"
      ]
    },
    {
      "cell_type": "markdown",
      "metadata": {
        "id": "zukZYPe_FWPe",
        "colab_type": "text"
      },
      "source": [
        "We are trying to predict the target variable: the average house value for California districts."
      ]
    },
    {
      "cell_type": "code",
      "metadata": {
        "outputHidden": false,
        "inputHidden": false,
        "id": "dU5z9iGkFWPe",
        "colab_type": "code",
        "colab": {}
      },
      "source": [
        "# download the dataset\n",
        "from sklearn.datasets import fetch_california_housing\n",
        "\n",
        "calhousing = fetch_california_housing()"
      ],
      "execution_count": 0,
      "outputs": []
    },
    {
      "cell_type": "code",
      "metadata": {
        "outputHidden": false,
        "inputHidden": false,
        "id": "f_CiYxvnFWPg",
        "colab_type": "code",
        "colab": {
          "base_uri": "https://localhost:8080/",
          "height": 745
        },
        "outputId": "43f69e06-2a7d-4bbc-fc4f-93014f1654a1"
      },
      "source": [
        "# description of the dataset\n",
        "print(calhousing.DESCR)"
      ],
      "execution_count": 3,
      "outputs": [
        {
          "output_type": "stream",
          "text": [
            ".. _california_housing_dataset:\n",
            "\n",
            "California Housing dataset\n",
            "--------------------------\n",
            "\n",
            "**Data Set Characteristics:**\n",
            "\n",
            "    :Number of Instances: 20640\n",
            "\n",
            "    :Number of Attributes: 8 numeric, predictive attributes and the target\n",
            "\n",
            "    :Attribute Information:\n",
            "        - MedInc        median income in block\n",
            "        - HouseAge      median house age in block\n",
            "        - AveRooms      average number of rooms\n",
            "        - AveBedrms     average number of bedrooms\n",
            "        - Population    block population\n",
            "        - AveOccup      average house occupancy\n",
            "        - Latitude      house block latitude\n",
            "        - Longitude     house block longitude\n",
            "\n",
            "    :Missing Attribute Values: None\n",
            "\n",
            "This dataset was obtained from the StatLib repository.\n",
            "http://lib.stat.cmu.edu/datasets/\n",
            "\n",
            "The target variable is the median house value for California districts.\n",
            "\n",
            "This dataset was derived from the 1990 U.S. census, using one row per census\n",
            "block group. A block group is the smallest geographical unit for which the U.S.\n",
            "Census Bureau publishes sample data (a block group typically has a population\n",
            "of 600 to 3,000 people).\n",
            "\n",
            "It can be downloaded/loaded using the\n",
            ":func:`sklearn.datasets.fetch_california_housing` function.\n",
            "\n",
            ".. topic:: References\n",
            "\n",
            "    - Pace, R. Kelley and Ronald Barry, Sparse Spatial Autoregressions,\n",
            "      Statistics and Probability Letters, 33 (1997) 291-297\n",
            "\n"
          ],
          "name": "stdout"
        }
      ]
    },
    {
      "cell_type": "code",
      "metadata": {
        "outputHidden": false,
        "inputHidden": false,
        "id": "LTaKrB0bFWPj",
        "colab_type": "code",
        "colab": {
          "base_uri": "https://localhost:8080/",
          "height": 34
        },
        "outputId": "355ce6fe-84b3-42f5-b48d-0e26cc1da695"
      },
      "source": [
        "# feature names\n",
        "print(calhousing.feature_names)"
      ],
      "execution_count": 4,
      "outputs": [
        {
          "output_type": "stream",
          "text": [
            "['MedInc', 'HouseAge', 'AveRooms', 'AveBedrms', 'Population', 'AveOccup', 'Latitude', 'Longitude']\n"
          ],
          "name": "stdout"
        }
      ]
    },
    {
      "cell_type": "code",
      "metadata": {
        "outputHidden": false,
        "inputHidden": false,
        "id": "QT1DEXIRFWPl",
        "colab_type": "code",
        "colab": {
          "base_uri": "https://localhost:8080/",
          "height": 197
        },
        "outputId": "03d82bee-7655-4976-ec19-4752b25361e4"
      },
      "source": [
        "# create a dataframe with the feature variables\n",
        "df_raw = pd.DataFrame(calhousing.data, columns=calhousing.feature_names)\n",
        "\n",
        "# view the top 5 rows\n",
        "df_raw.head()"
      ],
      "execution_count": 5,
      "outputs": [
        {
          "output_type": "execute_result",
          "data": {
            "text/html": [
              "<div>\n",
              "<style scoped>\n",
              "    .dataframe tbody tr th:only-of-type {\n",
              "        vertical-align: middle;\n",
              "    }\n",
              "\n",
              "    .dataframe tbody tr th {\n",
              "        vertical-align: top;\n",
              "    }\n",
              "\n",
              "    .dataframe thead th {\n",
              "        text-align: right;\n",
              "    }\n",
              "</style>\n",
              "<table border=\"1\" class=\"dataframe\">\n",
              "  <thead>\n",
              "    <tr style=\"text-align: right;\">\n",
              "      <th></th>\n",
              "      <th>MedInc</th>\n",
              "      <th>HouseAge</th>\n",
              "      <th>AveRooms</th>\n",
              "      <th>AveBedrms</th>\n",
              "      <th>Population</th>\n",
              "      <th>AveOccup</th>\n",
              "      <th>Latitude</th>\n",
              "      <th>Longitude</th>\n",
              "    </tr>\n",
              "  </thead>\n",
              "  <tbody>\n",
              "    <tr>\n",
              "      <th>0</th>\n",
              "      <td>8.3252</td>\n",
              "      <td>41.0</td>\n",
              "      <td>6.984127</td>\n",
              "      <td>1.023810</td>\n",
              "      <td>322.0</td>\n",
              "      <td>2.555556</td>\n",
              "      <td>37.88</td>\n",
              "      <td>-122.23</td>\n",
              "    </tr>\n",
              "    <tr>\n",
              "      <th>1</th>\n",
              "      <td>8.3014</td>\n",
              "      <td>21.0</td>\n",
              "      <td>6.238137</td>\n",
              "      <td>0.971880</td>\n",
              "      <td>2401.0</td>\n",
              "      <td>2.109842</td>\n",
              "      <td>37.86</td>\n",
              "      <td>-122.22</td>\n",
              "    </tr>\n",
              "    <tr>\n",
              "      <th>2</th>\n",
              "      <td>7.2574</td>\n",
              "      <td>52.0</td>\n",
              "      <td>8.288136</td>\n",
              "      <td>1.073446</td>\n",
              "      <td>496.0</td>\n",
              "      <td>2.802260</td>\n",
              "      <td>37.85</td>\n",
              "      <td>-122.24</td>\n",
              "    </tr>\n",
              "    <tr>\n",
              "      <th>3</th>\n",
              "      <td>5.6431</td>\n",
              "      <td>52.0</td>\n",
              "      <td>5.817352</td>\n",
              "      <td>1.073059</td>\n",
              "      <td>558.0</td>\n",
              "      <td>2.547945</td>\n",
              "      <td>37.85</td>\n",
              "      <td>-122.25</td>\n",
              "    </tr>\n",
              "    <tr>\n",
              "      <th>4</th>\n",
              "      <td>3.8462</td>\n",
              "      <td>52.0</td>\n",
              "      <td>6.281853</td>\n",
              "      <td>1.081081</td>\n",
              "      <td>565.0</td>\n",
              "      <td>2.181467</td>\n",
              "      <td>37.85</td>\n",
              "      <td>-122.25</td>\n",
              "    </tr>\n",
              "  </tbody>\n",
              "</table>\n",
              "</div>"
            ],
            "text/plain": [
              "   MedInc  HouseAge  AveRooms  ...  AveOccup  Latitude  Longitude\n",
              "0  8.3252      41.0  6.984127  ...  2.555556     37.88    -122.23\n",
              "1  8.3014      21.0  6.238137  ...  2.109842     37.86    -122.22\n",
              "2  7.2574      52.0  8.288136  ...  2.802260     37.85    -122.24\n",
              "3  5.6431      52.0  5.817352  ...  2.547945     37.85    -122.25\n",
              "4  3.8462      52.0  6.281853  ...  2.181467     37.85    -122.25\n",
              "\n",
              "[5 rows x 8 columns]"
            ]
          },
          "metadata": {
            "tags": []
          },
          "execution_count": 5
        }
      ]
    },
    {
      "cell_type": "code",
      "metadata": {
        "ExecuteTime": {
          "end_time": "2019-08-29T14:22:43.943058Z",
          "start_time": "2019-08-29T14:22:43.888502Z"
        },
        "scrolled": true,
        "id": "Fytzcq8jFWPn",
        "colab_type": "code",
        "colab": {}
      },
      "source": [
        "# add the target variable to the dataframe\n",
        "df_raw['Target'] = calhousing.target"
      ],
      "execution_count": 0,
      "outputs": []
    },
    {
      "cell_type": "code",
      "metadata": {
        "ExecuteTime": {
          "end_time": "2019-08-29T14:22:43.967951Z",
          "start_time": "2019-08-29T14:22:43.944568Z"
        },
        "scrolled": true,
        "id": "eoqRX9uUFWPo",
        "colab_type": "code",
        "colab": {
          "base_uri": "https://localhost:8080/",
          "height": 197
        },
        "outputId": "5f41aa13-c7a3-4e74-cc9e-18c60f343d1e"
      },
      "source": [
        "df_raw.head()"
      ],
      "execution_count": 7,
      "outputs": [
        {
          "output_type": "execute_result",
          "data": {
            "text/html": [
              "<div>\n",
              "<style scoped>\n",
              "    .dataframe tbody tr th:only-of-type {\n",
              "        vertical-align: middle;\n",
              "    }\n",
              "\n",
              "    .dataframe tbody tr th {\n",
              "        vertical-align: top;\n",
              "    }\n",
              "\n",
              "    .dataframe thead th {\n",
              "        text-align: right;\n",
              "    }\n",
              "</style>\n",
              "<table border=\"1\" class=\"dataframe\">\n",
              "  <thead>\n",
              "    <tr style=\"text-align: right;\">\n",
              "      <th></th>\n",
              "      <th>MedInc</th>\n",
              "      <th>HouseAge</th>\n",
              "      <th>AveRooms</th>\n",
              "      <th>AveBedrms</th>\n",
              "      <th>Population</th>\n",
              "      <th>AveOccup</th>\n",
              "      <th>Latitude</th>\n",
              "      <th>Longitude</th>\n",
              "      <th>Target</th>\n",
              "    </tr>\n",
              "  </thead>\n",
              "  <tbody>\n",
              "    <tr>\n",
              "      <th>0</th>\n",
              "      <td>8.3252</td>\n",
              "      <td>41.0</td>\n",
              "      <td>6.984127</td>\n",
              "      <td>1.023810</td>\n",
              "      <td>322.0</td>\n",
              "      <td>2.555556</td>\n",
              "      <td>37.88</td>\n",
              "      <td>-122.23</td>\n",
              "      <td>4.526</td>\n",
              "    </tr>\n",
              "    <tr>\n",
              "      <th>1</th>\n",
              "      <td>8.3014</td>\n",
              "      <td>21.0</td>\n",
              "      <td>6.238137</td>\n",
              "      <td>0.971880</td>\n",
              "      <td>2401.0</td>\n",
              "      <td>2.109842</td>\n",
              "      <td>37.86</td>\n",
              "      <td>-122.22</td>\n",
              "      <td>3.585</td>\n",
              "    </tr>\n",
              "    <tr>\n",
              "      <th>2</th>\n",
              "      <td>7.2574</td>\n",
              "      <td>52.0</td>\n",
              "      <td>8.288136</td>\n",
              "      <td>1.073446</td>\n",
              "      <td>496.0</td>\n",
              "      <td>2.802260</td>\n",
              "      <td>37.85</td>\n",
              "      <td>-122.24</td>\n",
              "      <td>3.521</td>\n",
              "    </tr>\n",
              "    <tr>\n",
              "      <th>3</th>\n",
              "      <td>5.6431</td>\n",
              "      <td>52.0</td>\n",
              "      <td>5.817352</td>\n",
              "      <td>1.073059</td>\n",
              "      <td>558.0</td>\n",
              "      <td>2.547945</td>\n",
              "      <td>37.85</td>\n",
              "      <td>-122.25</td>\n",
              "      <td>3.413</td>\n",
              "    </tr>\n",
              "    <tr>\n",
              "      <th>4</th>\n",
              "      <td>3.8462</td>\n",
              "      <td>52.0</td>\n",
              "      <td>6.281853</td>\n",
              "      <td>1.081081</td>\n",
              "      <td>565.0</td>\n",
              "      <td>2.181467</td>\n",
              "      <td>37.85</td>\n",
              "      <td>-122.25</td>\n",
              "      <td>3.422</td>\n",
              "    </tr>\n",
              "  </tbody>\n",
              "</table>\n",
              "</div>"
            ],
            "text/plain": [
              "   MedInc  HouseAge  AveRooms  AveBedrms  ...  AveOccup  Latitude  Longitude  Target\n",
              "0  8.3252      41.0  6.984127   1.023810  ...  2.555556     37.88    -122.23   4.526\n",
              "1  8.3014      21.0  6.238137   0.971880  ...  2.109842     37.86    -122.22   3.585\n",
              "2  7.2574      52.0  8.288136   1.073446  ...  2.802260     37.85    -122.24   3.521\n",
              "3  5.6431      52.0  5.817352   1.073059  ...  2.547945     37.85    -122.25   3.413\n",
              "4  3.8462      52.0  6.281853   1.081081  ...  2.181467     37.85    -122.25   3.422\n",
              "\n",
              "[5 rows x 9 columns]"
            ]
          },
          "metadata": {
            "tags": []
          },
          "execution_count": 7
        }
      ]
    },
    {
      "cell_type": "markdown",
      "metadata": {
        "id": "qhAaNtNFFWPq",
        "colab_type": "text"
      },
      "source": [
        "## Data processing"
      ]
    },
    {
      "cell_type": "code",
      "metadata": {
        "ExecuteTime": {
          "end_time": "2019-08-29T14:22:44.225854Z",
          "start_time": "2019-08-29T14:22:43.969319Z"
        },
        "scrolled": true,
        "id": "sbG7v2jEFWPr",
        "colab_type": "code",
        "colab": {
          "base_uri": "https://localhost:8080/",
          "height": 268
        },
        "outputId": "94134d82-7cb1-46b1-e5db-23098e806a43"
      },
      "source": [
        "# histogram of the prices of houses (in US$ 100,000)\n",
        "plt.hist(df_raw['Target'], bins=50);"
      ],
      "execution_count": 8,
      "outputs": [
        {
          "output_type": "display_data",
          "data": {
            "image/png": "[encoded data removed]",
            "text/plain": [
              "<Figure size 432x288 with 1 Axes>"
            ]
          },
          "metadata": {
            "tags": []
          }
        }
      ]
    },
    {
      "cell_type": "markdown",
      "metadata": {
        "id": "r9wuaheuFWPt",
        "colab_type": "text"
      },
      "source": [
        "There seems to be an answer of 'more than US$ 500,000' so we exclude those values who pollute the dataset."
      ]
    },
    {
      "cell_type": "code",
      "metadata": {
        "outputHidden": false,
        "inputHidden": false,
        "id": "4PSGjlY2FWPt",
        "colab_type": "code",
        "colab": {
          "base_uri": "https://localhost:8080/",
          "height": 268
        },
        "outputId": "19faa080-8fc8-4203-ffdb-12d9a997ff48"
      },
      "source": [
        "plt.hist(df_raw.query('Target < 4.9')['Target'], bins=50);"
      ],
      "execution_count": 9,
      "outputs": [
        {
          "output_type": "display_data",
          "data": {
            "image/png": "[encoded data removed]",
            "text/plain": [
              "<Figure size 432x288 with 1 Axes>"
            ]
          },
          "metadata": {
            "tags": []
          }
        }
      ]
    },
    {
      "cell_type": "code",
      "metadata": {
        "outputHidden": false,
        "inputHidden": false,
        "id": "cP3cbQV0FWPv",
        "colab_type": "code",
        "colab": {}
      },
      "source": [
        "df_raw = df_raw.query('Target < 4.9')"
      ],
      "execution_count": 0,
      "outputs": []
    },
    {
      "cell_type": "code",
      "metadata": {
        "ExecuteTime": {
          "end_time": "2019-08-29T14:22:44.669585Z",
          "start_time": "2019-08-29T14:22:44.457229Z"
        },
        "id": "d6dM3jSHFWPx",
        "colab_type": "code",
        "colab": {
          "base_uri": "https://localhost:8080/",
          "height": 268
        },
        "outputId": "187fa9dd-ca90-401b-cdda-f04b83d5918c"
      },
      "source": [
        "plt.hist(df_raw['Target'], bins=50);"
      ],
      "execution_count": 11,
      "outputs": [
        {
          "output_type": "display_data",
          "data": {
            "image/png": "[encoded data removed]",
            "text/plain": [
              "<Figure size 432x288 with 1 Axes>"
            ]
          },
          "metadata": {
            "tags": []
          }
        }
      ]
    },
    {
      "cell_type": "markdown",
      "metadata": {
        "id": "PajCoht-FWPz",
        "colab_type": "text"
      },
      "source": [
        "We are interested on the percentage difference between our predictions and the actuals, not the absolute difference."
      ]
    },
    {
      "cell_type": "code",
      "metadata": {
        "ExecuteTime": {
          "end_time": "2019-08-29T14:22:44.682396Z",
          "start_time": "2019-08-29T14:22:44.670789Z"
        },
        "id": "0R7OfoutFWP0",
        "colab_type": "code",
        "colab": {}
      },
      "source": [
        "# percentage so we take the logarithm of the target variable\n",
        "df_raw['Target'] = np.log(df_raw['Target'])"
      ],
      "execution_count": 0,
      "outputs": []
    },
    {
      "cell_type": "code",
      "metadata": {
        "ExecuteTime": {
          "end_time": "2019-08-29T14:22:44.905043Z",
          "start_time": "2019-08-29T14:22:44.683599Z"
        },
        "id": "ZFDMA9z_FWP1",
        "colab_type": "code",
        "colab": {
          "base_uri": "https://localhost:8080/",
          "height": 268
        },
        "outputId": "5a34c16a-e2a3-4c21-f7a8-a0991ff6b2a0"
      },
      "source": [
        "plt.hist(df_raw['Target'], bins=50);"
      ],
      "execution_count": 13,
      "outputs": [
        {
          "output_type": "display_data",
          "data": {
            "image/png": "[encoded data removed]",
            "text/plain": [
              "<Figure size 432x288 with 1 Axes>"
            ]
          },
          "metadata": {
            "tags": []
          }
        }
      ]
    },
    {
      "cell_type": "markdown",
      "metadata": {
        "id": "AJih9FgSFWP4",
        "colab_type": "text"
      },
      "source": [
        "Split the dataset into training and validation datasets."
      ]
    },
    {
      "cell_type": "code",
      "metadata": {
        "ExecuteTime": {
          "end_time": "2019-08-29T14:22:44.917137Z",
          "start_time": "2019-08-29T14:22:44.906141Z"
        },
        "id": "Weqh7YUZFWP5",
        "colab_type": "code",
        "colab": {
          "base_uri": "https://localhost:8080/",
          "height": 34
        },
        "outputId": "1b8d60c8-7e30-4703-82e6-1031b58101ae"
      },
      "source": [
        "len(df_raw)"
      ],
      "execution_count": 14,
      "outputs": [
        {
          "output_type": "execute_result",
          "data": {
            "text/plain": [
              "19608"
            ]
          },
          "metadata": {
            "tags": []
          },
          "execution_count": 14
        }
      ]
    },
    {
      "cell_type": "code",
      "metadata": {
        "ExecuteTime": {
          "end_time": "2019-08-29T14:22:44.928962Z",
          "start_time": "2019-08-29T14:22:44.918471Z"
        },
        "id": "JYC2_oHMFWP7",
        "colab_type": "code",
        "colab": {}
      },
      "source": [
        "n_trn = len(df_raw)-1000"
      ],
      "execution_count": 0,
      "outputs": []
    },
    {
      "cell_type": "code",
      "metadata": {
        "ExecuteTime": {
          "end_time": "2019-08-29T14:22:44.941173Z",
          "start_time": "2019-08-29T14:22:44.930183Z"
        },
        "id": "mXUvXuh8FWP9",
        "colab_type": "code",
        "colab": {}
      },
      "source": [
        "def split_vals(a,n): return a[:n], a[n:]"
      ],
      "execution_count": 0,
      "outputs": []
    },
    {
      "cell_type": "code",
      "metadata": {
        "ExecuteTime": {
          "end_time": "2019-08-29T14:22:44.958876Z",
          "start_time": "2019-08-29T14:22:44.942564Z"
        },
        "id": "8KNZScFrFWP_",
        "colab_type": "code",
        "colab": {}
      },
      "source": [
        "df_raw = df_raw.sample(frac=1, random_state=42).reset_index(drop=True) # Shuffle the rows\n",
        "X_trn, X_val = split_vals(df_raw.drop(['Target'], axis='columns'), n_trn)\n",
        "y_trn, y_val = split_vals(df_raw['Target'], n_trn)"
      ],
      "execution_count": 0,
      "outputs": []
    },
    {
      "cell_type": "code",
      "metadata": {
        "ExecuteTime": {
          "end_time": "2019-08-29T14:22:44.970850Z",
          "start_time": "2019-08-29T14:22:44.960158Z"
        },
        "id": "DOG0JBNSFWQA",
        "colab_type": "code",
        "colab": {}
      },
      "source": [
        "y_val.reset_index(drop=True);"
      ],
      "execution_count": 0,
      "outputs": []
    },
    {
      "cell_type": "code",
      "metadata": {
        "ExecuteTime": {
          "end_time": "2019-08-29T14:22:44.983978Z",
          "start_time": "2019-08-29T14:22:44.972131Z"
        },
        "id": "hJ5wTUjDFWQF",
        "colab_type": "code",
        "colab": {
          "base_uri": "https://localhost:8080/",
          "height": 34
        },
        "outputId": "27fa3757-691b-46bf-ce5c-fcb4ac4c0314"
      },
      "source": [
        "# Check if the train/valid sets and the train/valid targets have the same number of observations\n",
        "len(X_trn)==len(y_trn), len(X_val)==len(y_val) "
      ],
      "execution_count": 19,
      "outputs": [
        {
          "output_type": "execute_result",
          "data": {
            "text/plain": [
              "(True, True)"
            ]
          },
          "metadata": {
            "tags": []
          },
          "execution_count": 19
        }
      ]
    },
    {
      "cell_type": "code",
      "metadata": {
        "ExecuteTime": {
          "end_time": "2019-08-29T14:22:44.996890Z",
          "start_time": "2019-08-29T14:22:44.985345Z"
        },
        "id": "k3v1bTgpFWQI",
        "colab_type": "code",
        "colab": {
          "base_uri": "https://localhost:8080/",
          "height": 34
        },
        "outputId": "6c5816f2-f71f-4d02-a89b-5bd538db7b74"
      },
      "source": [
        "# number of observations in the training set and the validation set\n",
        "len(y_trn), len(y_val)"
      ],
      "execution_count": 20,
      "outputs": [
        {
          "output_type": "execute_result",
          "data": {
            "text/plain": [
              "(18608, 1000)"
            ]
          },
          "metadata": {
            "tags": []
          },
          "execution_count": 20
        }
      ]
    },
    {
      "cell_type": "markdown",
      "metadata": {
        "id": "WaRJzlOTFWQK",
        "colab_type": "text"
      },
      "source": [
        "Scaling the features."
      ]
    },
    {
      "cell_type": "code",
      "metadata": {
        "ExecuteTime": {
          "end_time": "2019-08-29T14:22:45.192394Z",
          "start_time": "2019-08-29T14:22:45.065179Z"
        },
        "id": "4oiqK0EUFWQL",
        "colab_type": "code",
        "colab": {}
      },
      "source": [
        "X_trn_s = (X_trn - X_trn.mean())/X_trn.std()\n",
        "X_val_s = (X_val - X_trn.mean())/X_trn.std()"
      ],
      "execution_count": 0,
      "outputs": []
    },
    {
      "cell_type": "markdown",
      "metadata": {
        "id": "DjVhMZqgFWQM",
        "colab_type": "text"
      },
      "source": [
        "## Data analysis"
      ]
    },
    {
      "cell_type": "code",
      "metadata": {
        "ExecuteTime": {
          "end_time": "2019-08-29T14:22:45.204506Z",
          "start_time": "2019-08-29T14:22:45.193626Z"
        },
        "id": "DYQVER2cFWQN",
        "colab_type": "code",
        "colab": {}
      },
      "source": [
        "# cost function (percent mean squared error but we already took the log so it's just mean squared error)\n",
        "import math\n",
        "\n",
        "def rmse(x,y): return math.sqrt(((x-y)**2).mean())"
      ],
      "execution_count": 0,
      "outputs": []
    },
    {
      "cell_type": "markdown",
      "metadata": {
        "id": "G9InRTl1FWQP",
        "colab_type": "text"
      },
      "source": [
        "Function to plot predictions vs actuals"
      ]
    },
    {
      "cell_type": "code",
      "metadata": {
        "ExecuteTime": {
          "end_time": "2019-08-29T14:22:45.218276Z",
          "start_time": "2019-08-29T14:22:45.205839Z"
        },
        "id": "OguKrhuBFWQQ",
        "colab_type": "code",
        "colab": {}
      },
      "source": [
        "def scatter_predictions(y_pred, y_true):\n",
        "    plt.figure(figsize=(6, 6))\n",
        "    plt.xlabel('prediction')\n",
        "    plt.ylabel('true target')\n",
        "    plt.xlim(-1, 6)\n",
        "    plt.ylim(-1, 6)\n",
        "    plt.scatter(np.exp(y_pred), np.exp(y_true))\n",
        "    plt.plot(np.linspace(-1,6), np.linspace(-1,6))\n",
        "    plt.show()"
      ],
      "execution_count": 0,
      "outputs": []
    },
    {
      "cell_type": "markdown",
      "metadata": {
        "id": "3ccVNJ13FWQS",
        "colab_type": "text"
      },
      "source": [
        "For linear regression, we need to use the scaled columns."
      ]
    },
    {
      "cell_type": "code",
      "metadata": {
        "ExecuteTime": {
          "end_time": "2019-08-29T14:22:48.254679Z",
          "start_time": "2019-08-29T14:22:45.221150Z"
        },
        "id": "qOYfvVgMFWQS",
        "colab_type": "code",
        "colab": {
          "base_uri": "https://localhost:8080/",
          "height": 52
        },
        "outputId": "6524a3cf-a0a4-4049-8b42-f7d7f3c11181"
      },
      "source": [
        "from sklearn.linear_model import LinearRegression\n",
        "\n",
        "lm = LinearRegression()\n",
        "lm.fit(X_trn_s, y_trn)\n",
        "print(f'train error: {rmse(lm.predict(X_trn_s), y_trn):.3f}, valid error: {rmse(lm.predict(X_val_s), y_val):.3f}')\n",
        "print(f'train score: {lm.score(X_trn_s, y_trn):.3f}, valid score: {lm.score(X_val_s, y_val):.3f}')"
      ],
      "execution_count": 24,
      "outputs": [
        {
          "output_type": "stream",
          "text": [
            "train error: 0.334, valid error: 0.328\n",
            "train score: 0.604, valid score: 0.601\n"
          ],
          "name": "stdout"
        }
      ]
    },
    {
      "cell_type": "code",
      "metadata": {
        "ExecuteTime": {
          "end_time": "2019-08-29T14:22:48.449325Z",
          "start_time": "2019-08-29T14:22:48.257073Z"
        },
        "scrolled": true,
        "id": "fixFSuwcFWQU",
        "colab_type": "code",
        "colab": {
          "base_uri": "https://localhost:8080/",
          "height": 392
        },
        "outputId": "65b8d586-9bbc-452e-e4bf-4683e80d0b92"
      },
      "source": [
        "scatter_predictions(lm.predict(X_val_s), y_val)"
      ],
      "execution_count": 25,
      "outputs": [
        {
          "output_type": "display_data",
          "data": {
            "image/png": "[encoded data removed]",
            "text/plain": [
              "<Figure size 432x432 with 1 Axes>"
            ]
          },
          "metadata": {
            "tags": []
          }
        }
      ]
    },
    {
      "cell_type": "code",
      "metadata": {
        "ExecuteTime": {
          "end_time": "2019-08-29T14:22:48.624804Z",
          "start_time": "2019-08-29T14:22:48.450731Z"
        },
        "scrolled": true,
        "id": "TgzaMeC7FWQX",
        "colab_type": "code",
        "colab": {
          "base_uri": "https://localhost:8080/",
          "height": 268
        },
        "outputId": "1f574613-1a8d-4c94-bc12-e261dd5be0c1"
      },
      "source": [
        "# Feature importance\n",
        "featcoef_lm = lm.coef_\n",
        "rel_featcoef_lm = np.abs(featcoef_lm)/np.sum(np.abs(featcoef_lm))\n",
        "lab = df_raw.drop(['Target'], axis=1).columns\n",
        "df_featcoef_lm = pd.DataFrame({'lab_lm': lab, 'value_lm': rel_featcoef_lm}, index=lab)\n",
        "df_featcoef_lm = df_featcoef_lm.sort_values(by='value_lm', ascending=True)\n",
        "df_featcoef_lm.plot.barh(y='value_lm');"
      ],
      "execution_count": 26,
      "outputs": [
        {
          "output_type": "display_data",
          "data": {
            "image/png": "[encoded data removed]",
            "text/plain": [
              "<Figure size 432x288 with 1 Axes>"
            ]
          },
          "metadata": {
            "tags": []
          }
        }
      ]
    },
    {
      "cell_type": "markdown",
      "metadata": {
        "id": "eVWODBzBFWQZ",
        "colab_type": "text"
      },
      "source": [
        "## Random forests"
      ]
    },
    {
      "cell_type": "code",
      "metadata": {
        "ExecuteTime": {
          "end_time": "2019-08-29T14:22:50.006386Z",
          "start_time": "2019-08-29T14:22:48.626092Z"
        },
        "id": "ADngxgFFFWQZ",
        "colab_type": "code",
        "colab": {
          "base_uri": "https://localhost:8080/",
          "height": 52
        },
        "outputId": "909a431f-58ae-44ae-9651-99eb8329d3a3"
      },
      "source": [
        "from sklearn.ensemble import RandomForestRegressor, RandomForestClassifier\n",
        "\n",
        "rfm = RandomForestRegressor(n_estimators=50, min_samples_leaf=1, max_features=.5, n_jobs=-1, random_state=42)\n",
        "rfm.fit(X_trn, y_trn)\n",
        "print(f'train error: {rmse(rfm.predict(X_trn), y_trn):.3f}, valid error: {rmse(rfm.predict(X_val), y_val):.3f}')\n",
        "print(f'train score: {rfm.score(X_trn, y_trn):.3f}, valid score: {rfm.score(X_val, y_val):.3f}')"
      ],
      "execution_count": 27,
      "outputs": [
        {
          "output_type": "stream",
          "text": [
            "train error: 0.084, valid error: 0.217\n",
            "train score: 0.975, valid score: 0.825\n"
          ],
          "name": "stdout"
        }
      ]
    },
    {
      "cell_type": "markdown",
      "metadata": {
        "id": "CvM7QOROFWQb",
        "colab_type": "text"
      },
      "source": [
        "Holy cow! Our error diminished by $34\\%$ and our score improved by $37\\%$."
      ]
    },
    {
      "cell_type": "code",
      "metadata": {
        "ExecuteTime": {
          "end_time": "2019-08-29T14:22:50.271278Z",
          "start_time": "2019-08-29T14:22:50.008143Z"
        },
        "scrolled": true,
        "id": "LbakyKWbFWQd",
        "colab_type": "code",
        "colab": {
          "base_uri": "https://localhost:8080/",
          "height": 392
        },
        "outputId": "1113e0e9-883b-48f8-98fd-156bcc8aa5d1"
      },
      "source": [
        "scatter_predictions(rfm.predict(X_val), y_val)"
      ],
      "execution_count": 28,
      "outputs": [
        {
          "output_type": "display_data",
          "data": {
            "image/png": "[encoded data removed]",
            "text/plain": [
              "<Figure size 432x432 with 1 Axes>"
            ]
          },
          "metadata": {
            "tags": []
          }
        }
      ]
    },
    {
      "cell_type": "markdown",
      "metadata": {
        "id": "_J0jeeAgFWQh",
        "colab_type": "text"
      },
      "source": [
        "Our predictions are much less disperse compared to the predictions of the linear model."
      ]
    },
    {
      "cell_type": "code",
      "metadata": {
        "ExecuteTime": {
          "end_time": "2019-08-29T14:22:50.554109Z",
          "start_time": "2019-08-29T14:22:50.272610Z"
        },
        "scrolled": true,
        "id": "NBNWzCzCFWQi",
        "colab_type": "code",
        "colab": {
          "base_uri": "https://localhost:8080/",
          "height": 268
        },
        "outputId": "4e10a7a8-7101-4a81-d160-12b36532810e"
      },
      "source": [
        "featcoef_rfm = rfm.feature_importances_\n",
        "rel_featcoef_rfm = np.abs(featcoef_rfm)/np.sum(np.abs(featcoef_rfm))\n",
        "df_featcoef_rfm = pd.DataFrame({'lab_rf': lab, 'value_rf': rel_featcoef_rfm})\n",
        "df_featcoef_rfm = df_featcoef_rfm.sort_values(by='value_rf', ascending=True)\n",
        "df_featcoef_rfm.plot.barh(x='lab_rf', y='value_rf');"
      ],
      "execution_count": 29,
      "outputs": [
        {
          "output_type": "display_data",
          "data": {
            "image/png": "[encoded data removed]",
            "text/plain": [
              "<Figure size 432x288 with 1 Axes>"
            ]
          },
          "metadata": {
            "tags": []
          }
        }
      ]
    },
    {
      "cell_type": "markdown",
      "metadata": {
        "id": "WhnZm7h5FWQk",
        "colab_type": "text"
      },
      "source": [
        "The most important feature of the price of a house is the average income in the bloc. Location features (Longitude and Latitude) seem to be very important as well (but less important compared to the feature importance given to them by the linear model)."
      ]
    },
    {
      "cell_type": "markdown",
      "metadata": {
        "ExecuteTime": {
          "end_time": "2019-07-23T08:47:26.926408Z",
          "start_time": "2019-07-23T08:47:26.521332Z"
        },
        "id": "RAWFU0hGFWQk",
        "colab_type": "text"
      },
      "source": [
        "## Bonus track: Prediction intervals of random forests"
      ]
    },
    {
      "cell_type": "markdown",
      "metadata": {
        "id": "Wd6pnr-zFWQk",
        "colab_type": "text"
      },
      "source": [
        "Random forests give us the estimation given by several decision trees, so we get for free the standard deviation of these predictions."
      ]
    },
    {
      "cell_type": "code",
      "metadata": {
        "ExecuteTime": {
          "end_time": "2019-08-29T14:22:50.634221Z",
          "start_time": "2019-08-29T14:22:50.555566Z"
        },
        "scrolled": false,
        "id": "KkTN1MwCFWQl",
        "colab_type": "code",
        "colab": {
          "base_uri": "https://localhost:8080/",
          "height": 34
        },
        "outputId": "184f6ca0-d598-47a8-925c-7283310c246a"
      },
      "source": [
        "preds = np.stack([t.predict(X_val) for t in rfm.estimators_])\n",
        "print(f'Predicted value first house: {np.mean(preds[:,0]):.2f}, Standard deviation of the prediction: {np.std(preds[:,0]):.2f}')"
      ],
      "execution_count": 30,
      "outputs": [
        {
          "output_type": "stream",
          "text": [
            "Predicted value first house: 0.37, Standard deviation of the prediction: 0.28\n"
          ],
          "name": "stdout"
        }
      ]
    },
    {
      "cell_type": "markdown",
      "metadata": {
        "id": "iJ-GiYdjFWQm",
        "colab_type": "text"
      },
      "source": [
        "We compute the predictions and their standard deviations."
      ]
    },
    {
      "cell_type": "code",
      "metadata": {
        "ExecuteTime": {
          "end_time": "2019-08-29T14:22:50.677713Z",
          "start_time": "2019-08-29T14:22:50.635642Z"
        },
        "id": "S04MTRjgFWQn",
        "colab_type": "code",
        "colab": {}
      },
      "source": [
        "pred = [np.mean(preds[:,i]) for i in range(len(X_val))]\n",
        "pred_std = [np.std(preds[:,i]) for i in range(len(X_val))]"
      ],
      "execution_count": 0,
      "outputs": []
    },
    {
      "cell_type": "markdown",
      "metadata": {
        "id": "yIT6eZFhFWQq",
        "colab_type": "text"
      },
      "source": [
        "How many predictions are within 1 standard deviation? 2 standard deviations? 3 standard deviations?"
      ]
    },
    {
      "cell_type": "code",
      "metadata": {
        "outputHidden": false,
        "inputHidden": false,
        "id": "opCbodh-FWQr",
        "colab_type": "code",
        "colab": {
          "base_uri": "https://localhost:8080/",
          "height": 34
        },
        "outputId": "57d8e00c-f09b-4488-cfd1-bc9641128601"
      },
      "source": [
        "pred_int1 = sum([pred[i]-1*pred_std[i] <= y_val.iloc[i] <= pred[i]+1*pred_std[i] for i in range(len(pred))])\n",
        "print(f'Within 1 standard deviation: {100*pred_int1/len(pred):.1f}%%')"
      ],
      "execution_count": 32,
      "outputs": [
        {
          "output_type": "stream",
          "text": [
            "Within 1 standard deviation: 79.9%%\n"
          ],
          "name": "stdout"
        }
      ]
    },
    {
      "cell_type": "code",
      "metadata": {
        "outputHidden": false,
        "inputHidden": false,
        "id": "8xqZfnufFWQu",
        "colab_type": "code",
        "colab": {
          "base_uri": "https://localhost:8080/",
          "height": 34
        },
        "outputId": "1707fcb8-a671-4203-e04a-8ace48ad28bb"
      },
      "source": [
        "pred_int2 = sum([pred[i]-2*pred_std[i] <= y_val.iloc[i] <= pred[i]+2*pred_std[i] for i in range(len(pred))])\n",
        "print(f'Within 2 standard deviation: {100*pred_int2/len(pred):.1f}%%')"
      ],
      "execution_count": 33,
      "outputs": [
        {
          "output_type": "stream",
          "text": [
            "Within 2 standard deviation: 98.2%%\n"
          ],
          "name": "stdout"
        }
      ]
    },
    {
      "cell_type": "code",
      "metadata": {
        "outputHidden": false,
        "inputHidden": false,
        "id": "qbvzUZJ2FWQx",
        "colab_type": "code",
        "colab": {
          "base_uri": "https://localhost:8080/",
          "height": 34
        },
        "outputId": "97a28368-fab1-4b7c-9e44-60cf61ef83f0"
      },
      "source": [
        "pred_int3 = sum([pred[i]-3*pred_std[i] <= y_val.iloc[i] <= pred[i]+3*pred_std[i] for i in range(len(pred))])\n",
        "print(f'Within 3 standard deviation: {100*pred_int3/len(pred):.1f}%%')"
      ],
      "execution_count": 34,
      "outputs": [
        {
          "output_type": "stream",
          "text": [
            "Within 3 standard deviation: 99.2%%\n"
          ],
          "name": "stdout"
        }
      ]
    },
    {
      "cell_type": "markdown",
      "metadata": {
        "id": "vVWXUaScFWQz",
        "colab_type": "text"
      },
      "source": [
        "Compared to the [68-95-99.7 rule](https://en.wikipedia.org/wiki/68%E2%80%9395%E2%80%9399.7_rule) of the normal distribution, I think it's quite a remarkable empirical prediction. "
      ]
    },
    {
      "cell_type": "markdown",
      "metadata": {
        "id": "RG8mMkgwFWQ0",
        "colab_type": "text"
      },
      "source": [
        "Sources:\n",
        "+ [Gradient Boosting: a practical guide](https://nbviewer.jupyter.org/github/ogrisel/notebooks/blob/master/sklearn_demos/Gradient%20Boosting.ipynb)\n",
        "+ [FastAI Machine Learning for Coders](https://course18.fast.ai/ml)"
      ]
    }
  ]
}